{
 "cells": [
  {
   "cell_type": "markdown",
   "metadata": {},
   "source": [
    "Importing libraries and downloading the dataset"
   ]
  },
  {
   "cell_type": "code",
   "execution_count": null,
   "metadata": {},
   "outputs": [],
   "source": [
    "#libraries\n",
    "import tensorflow as tf\n",
    "import numpy as np\n",
    "import os\n",
    "git_folder = \"/content/Detection-of-Sensitive-Data-Exposure-in-Images\"\n",
    "if os.path.exists(git_folder) == False:\n",
    "  !git clone https://github.com/SANDHOSH02/Quantum_my_work.git\n",
    "\n",
    "training_folder = git_folder + \"/dataset/training\" #training dataset\n",
    "validation_folder = git_folder + \"/dataset/validation\" #validation dataset"
   ]
  },
  {
   "cell_type": "code",
   "execution_count": null,
   "metadata": {},
   "outputs": [],
   "source": [
    "train_sensitive_dir = os.path.join(training_folder + \"/sensitive\")\n",
    "train_nonsensitive_dir = os.path.join(training_folder + \"/nonsensitive\")\n",
    "validation_sensitive_dir = os.path.join(validation_folder + \"/sensitive\")\n",
    "validation_nonsensitive_dir = os.path.join(validation_folder + \"/nonsensitive\")\n",
    "\n",
    "\n",
    "#size of image DS\n",
    "\n",
    "print('Total training sensitive images:', len(os.listdir(train_sensitive_dir)))\n",
    "print('Total training nonsensitive images:', len(os.listdir(train_nonsensitive_dir)))\n",
    "print('Total validation sensitive images:', len(os.listdir(validation_sensitive_dir)))\n",
    "print('Total validation nonsensitive images:', len(os.listdir(validation_nonsensitive_dir)))"
   ]
  },
  {
   "cell_type": "markdown",
   "metadata": {},
   "source": [
    "#our sample output ↑\n",
    "\n",
    "Total training sensitive images: 300\n",
    "\n",
    "Total training nonsensitive images: 300\n",
    "\n",
    "Total validation sensitive images: 50\n",
    "\n",
    "Total validation nonsensitive images: 50\n"
   ]
  }
 ],
 "metadata": {
  "language_info": {
   "name": "python"
  }
 },
 "nbformat": 4,
 "nbformat_minor": 2
}
