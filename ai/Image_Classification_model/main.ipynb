{
 "cells": [
  {
   "cell_type": "markdown",
   "metadata": {},
   "source": [
    "Importing libraries and downloading the dataset"
   ]
  },
  {
   "cell_type": "code",
   "execution_count": null,
   "metadata": {},
   "outputs": [],
   "source": [
    "#libraries\n",
    "import tensorflow as tf\n",
    "import numpy as np\n",
    "import os\n",
    "git_folder = \"/content/Detection-of-Sensitive-Data-Exposure-in-Images\"\n",
    "if os.path.exists(git_folder) == False:\n",
    "  !git clone https://github.com/SANDHOSH02/Quantum_my_work.git\n",
    "\n",
    "training_folder = git_folder + \"/dataset/training\" #training dataset\n",
    "validation_folder = git_folder + \"/dataset/validation\" #validation dataset"
   ]
  },
  {
   "cell_type": "code",
   "execution_count": null,
   "metadata": {},
   "outputs": [],
   "source": [
    "train_sensitive_dir = os.path.join(training_folder + \"/sensitive\")\n",
    "train_nonsensitive_dir = os.path.join(training_folder + \"/nonsensitive\")\n",
    "validation_sensitive_dir = os.path.join(validation_folder + \"/sensitive\")\n",
    "validation_nonsensitive_dir = os.path.join(validation_folder + \"/nonsensitive\")\n",
    "\n",
    "\n",
    "#size of image DS\n",
    "\n",
    "print('Total training sensitive images:', len(os.listdir(train_sensitive_dir)))\n",
    "print('Total training nonsensitive images:', len(os.listdir(train_nonsensitive_dir)))\n",
    "print('Total validation sensitive images:', len(os.listdir(validation_sensitive_dir)))\n",
    "print('Total validation nonsensitive images:', len(os.listdir(validation_nonsensitive_dir)))"
   ]
  },
  {
   "cell_type": "markdown",
   "metadata": {},
   "source": [
    "#our sample output ↑\n",
    "\n",
    "Total training sensitive images: 300\n",
    "\n",
    "Total training nonsensitive images: 300\n",
    "\n",
    "Total validation sensitive images: 50\n",
    "\n",
    "Total validation nonsensitive images: 50\n"
   ]
  },
  {
   "cell_type": "markdown",
   "metadata": {},
   "source": [
    "Show Sample Data "
   ]
  },
  {
   "cell_type": "code",
   "execution_count": null,
   "metadata": {},
   "outputs": [],
   "source": [
    "%matplotlib inline\n",
    "\n",
    "import matplotlib.pyplot as plt\n",
    "import matplotlib.image as mpimg\n",
    "\n",
    "#8 image both side\n",
    "nrows = 4\n",
    "ncols = 4\n",
    "\n",
    "pic_index = 0\n",
    "fig = plt.gcf()\n",
    "fig.set_size_inches(ncols * 4, nrows * 4)\n",
    "\n",
    "#both image\n",
    "train_sensitive_dir = os.path.join(training_folder+\"/sensitive\")\n",
    "train_nonsensitive_dir = os.path.join(training_folder+\"/nonsensitive\")\n",
    "train_sensitive_names = os.listdir(train_sensitive_dir)\n",
    "train_nonsensitive_names = os.listdir(train_nonsensitive_dir)\n",
    "\n",
    "\n",
    "\n",
    "pic_index += 8\n",
    "next_sensitive_pix = [os.path.join(train_sensitive_dir, fname) \n",
    "                for fname in train_sensitive_names[pic_index-8:pic_index]]\n",
    "next_nonsensitive_pix = [os.path.join(train_nonsensitive_dir, fname) \n",
    "                for fname in train_nonsensitive_names[pic_index-8:pic_index]]\n",
    "\n",
    "for i, img_path in enumerate(next_sensitive_pix+next_nonsensitive_pix):\n",
    "  \n",
    "  sp = plt.subplot(nrows, ncols, i + 1)\n",
    "  sp.axis('Off') \n",
    "\n",
    "  img = mpimg.imread(img_path)\n",
    "  plt.imshow(img)\n",
    "\n",
    "plt.show() #show the plot"
   ]
  },
  {
   "cell_type": "markdown",
   "metadata": {},
   "source": [
    "Sample output image ↓"
   ]
  },
  {
   "cell_type": "markdown",
   "metadata": {},
   "source": [
    "![alt text](all.png)"
   ]
  }
 ],
 "metadata": {
  "language_info": {
   "name": "python"
  }
 },
 "nbformat": 4,
 "nbformat_minor": 2
}
