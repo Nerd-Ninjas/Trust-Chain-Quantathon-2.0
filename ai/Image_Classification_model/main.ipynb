{
 "cells": [
  {
   "cell_type": "markdown",
   "metadata": {},
   "source": [
    "Importing libraries and downloading the dataset\n",
    "================================================\n"
   ]
  },
  {
   "cell_type": "code",
   "execution_count": null,
   "metadata": {},
   "outputs": [],
   "source": [
    "#libraries\n",
    "import tensorflow as tf\n",
    "import numpy as np\n",
    "import os\n",
    "git_folder = \"/content/Detection-of-Sensitive-Data-Exposure-in-Images\"\n",
    "if os.path.exists(git_folder) == False:\n",
    "  !git clone https://github.com/SANDHOSH02/Quantum_my_work.git\n",
    "\n",
    "training_folder = git_folder + \"/dataset/training\" #training dataset\n",
    "validation_folder = git_folder + \"/dataset/validation\" #validation dataset"
   ]
  },
  {
   "cell_type": "code",
   "execution_count": null,
   "metadata": {},
   "outputs": [],
   "source": [
    "train_sensitive_dir = os.path.join(training_folder + \"/sensitive\")\n",
    "train_nonsensitive_dir = os.path.join(training_folder + \"/nonsensitive\")\n",
    "validation_sensitive_dir = os.path.join(validation_folder + \"/sensitive\")\n",
    "validation_nonsensitive_dir = os.path.join(validation_folder + \"/nonsensitive\")\n",
    "\n",
    "\n",
    "#size of image DS\n",
    "\n",
    "print('Total training sensitive images:', len(os.listdir(train_sensitive_dir)))\n",
    "print('Total training nonsensitive images:', len(os.listdir(train_nonsensitive_dir)))\n",
    "print('Total validation sensitive images:', len(os.listdir(validation_sensitive_dir)))\n",
    "print('Total validation nonsensitive images:', len(os.listdir(validation_nonsensitive_dir)))"
   ]
  },
  {
   "cell_type": "markdown",
   "metadata": {},
   "source": [
    "#our sample output ↑\n",
    "\n",
    "Total training sensitive images: 300\n",
    "\n",
    "Total training nonsensitive images: 300\n",
    "\n",
    "Total validation sensitive images: 50\n",
    "\n",
    "Total validation nonsensitive images: 50\n"
   ]
  },
  {
   "cell_type": "markdown",
   "metadata": {},
   "source": [
    "Show Sample Data \n",
    "================"
   ]
  },
  {
   "cell_type": "code",
   "execution_count": null,
   "metadata": {},
   "outputs": [],
   "source": [
    "%matplotlib inline\n",
    "\n",
    "import matplotlib.pyplot as plt\n",
    "import matplotlib.image as mpimg\n",
    "\n",
    "#8 image both side\n",
    "nrows = 4\n",
    "ncols = 4\n",
    "\n",
    "pic_index = 0\n",
    "fig = plt.gcf()\n",
    "fig.set_size_inches(ncols * 4, nrows * 4)\n",
    "\n",
    "#both image\n",
    "train_sensitive_dir = os.path.join(training_folder+\"/sensitive\")\n",
    "train_nonsensitive_dir = os.path.join(training_folder+\"/nonsensitive\")\n",
    "train_sensitive_names = os.listdir(train_sensitive_dir)\n",
    "train_nonsensitive_names = os.listdir(train_nonsensitive_dir)\n",
    "\n",
    "\n",
    "\n",
    "pic_index += 8\n",
    "next_sensitive_pix = [os.path.join(train_sensitive_dir, fname) \n",
    "                for fname in train_sensitive_names[pic_index-8:pic_index]]\n",
    "next_nonsensitive_pix = [os.path.join(train_nonsensitive_dir, fname) \n",
    "                for fname in train_nonsensitive_names[pic_index-8:pic_index]]\n",
    "\n",
    "for i, img_path in enumerate(next_sensitive_pix+next_nonsensitive_pix):\n",
    "  \n",
    "  sp = plt.subplot(nrows, ncols, i + 1)\n",
    "  sp.axis('Off') \n",
    "\n",
    "  img = mpimg.imread(img_path)\n",
    "  plt.imshow(img)\n",
    "\n",
    "plt.show() #show the plot"
   ]
  },
  {
   "cell_type": "markdown",
   "metadata": {},
   "source": [
    "Sample output image ↓\n",
    "====================="
   ]
  },
  {
   "cell_type": "markdown",
   "metadata": {},
   "source": [
    "![alt text](all.png)"
   ]
  },
  {
   "cell_type": "markdown",
   "metadata": {},
   "source": [
    "Sequential Model \n",
    "=================\n"
   ]
  },
  {
   "cell_type": "code",
   "execution_count": null,
   "metadata": {},
   "outputs": [],
   "source": [
    "DESIRED_ACCURACY = 0.98\n",
    "\n",
    "class myCallback(tf.keras.callbacks.Callback):\n",
    "  def on_epoch_end(self, epoch, logs={}):\n",
    "    if logs.get('accuracy') > DESIRED_ACCURACY:\n",
    "      print(\"Reached 98% accuracy so cancelling training!\")\n",
    "      self.model.stop_training = True\n",
    "\n",
    "callbacks = myCallback()\n",
    "\n",
    "model = tf.keras.models.Sequential([\n",
    "  tf.keras.layers.Conv2D(32, (3,3), activation='relu', input_shape=(150,150,3)),\n",
    "  tf.keras.layers.MaxPooling2D(2,2),\n",
    "  tf.keras.layers.Conv2D(64, (3,3), activation='relu'),\n",
    "  tf.keras.layers.MaxPooling2D(2,2),\n",
    "  tf.keras.layers.Conv2D(128, (3,3), activation='relu'),\n",
    "  tf.keras.layers.MaxPooling2D(2,2),\n",
    "  tf.keras.layers.Conv2D(256, (3,3), activation='relu'),\n",
    "  tf.keras.layers.MaxPooling2D(2,2),\n",
    "  tf.keras.layers.Flatten(),\n",
    "  tf.keras.layers.Dense(512, activation='relu'),\n",
    "  tf.keras.layers.Dense(1, activation='sigmoid')\n",
    "])\n",
    "\n",
    "\n",
    "from tensorflow.keras.optimizers import RMSprop\n",
    "\n",
    "model.compile(loss='binary_crossentropy',\n",
    "              optimizer='adam',\n",
    "              metrics=['accuracy'])\n",
    "model.summary()"
   ]
  },
  {
   "cell_type": "markdown",
   "metadata": {},
   "source": [
    "Model output ↓\n",
    "=================================================================\n",
    "\n",
    "_________________________________________________________________\n",
    "Layer (type)                 Output Shape              Param #   \n",
    "\n",
    "conv2d (Conv2D)              (None, 148, 148, 32)      896       \n",
    "_________________________________________________________________\n",
    "max_pooling2d (MaxPooling2D) (None, 74, 74, 32)        0         \n",
    "_________________________________________________________________\n",
    "conv2d_1 (Conv2D)            (None, 72, 72, 64)        18496     \n",
    "_________________________________________________________________\n",
    "max_pooling2d_1 (MaxPooling2 (None, 36, 36, 64)        0         \n",
    "_________________________________________________________________\n",
    "conv2d_2 (Conv2D)            (None, 34, 34, 128)       73856     \n",
    "_________________________________________________________________\n",
    "max_pooling2d_2 (MaxPooling2 (None, 17, 17, 128)       0         \n",
    "_________________________________________________________________\n",
    "conv2d_3 (Conv2D)            (None, 15, 15, 256)       295168    \n",
    "_________________________________________________________________\n",
    "max_pooling2d_3 (MaxPooling2 (None, 7, 7, 256)         0         \n",
    "_________________________________________________________________\n",
    "flatten (Flatten)            (None, 12544)             0         \n",
    "_________________________________________________________________\n",
    "dense (Dense)                (None, 512)               6423040   \n",
    "_________________________________________________________________\n",
    "dense_1 (Dense)              (None, 1)                 513       \n",
    "...\n",
    "Total params: 6,811,969\n",
    "Trainable params: 6,811,969\n",
    "Non-trainable params: 0"
   ]
  },
  {
   "cell_type": "markdown",
   "metadata": {},
   "source": [
    "Preprocessing , Data Augmentation\n",
    "============================================\n"
   ]
  },
  {
   "cell_type": "code",
   "execution_count": null,
   "metadata": {},
   "outputs": [],
   "source": [
    "from tensorflow.keras.preprocessing.image import ImageDataGenerator\n",
    "\n",
    "train_datagen = ImageDataGenerator(rescale=1/255,\n",
    "                                  rotation_range=20,\n",
    "                                  width_shift_range=0.2,\n",
    "                                  height_shift_range=0.2,\n",
    "                                  shear_range=0.2,\n",
    "                                  zoom_range=0.2,\n",
    "                                  horizontal_flip=True,\n",
    "                                  vertical_flip=True,\n",
    "                                  fill_mode='nearest')\n",
    "validation_datagen = ImageDataGenerator(rescale=1/255)\n",
    "\n",
    "\n",
    "train_generator = train_datagen.flow_from_directory(\n",
    "        training_folder,\n",
    "        target_size=(150, 150),\n",
    "        batch_size=30,\n",
    "        class_mode='binary',\n",
    "        shuffle=True\n",
    "       )\n",
    "\n",
    "validation_generator = validation_datagen.flow_from_directory(\n",
    "        validation_folder,\n",
    "        target_size=(150, 150),\n",
    "        batch_size=5,\n",
    "        class_mode='binary',\n",
    "        shuffle=True\n",
    "        )\n",
    "\n",
    "num_epochs = 500\n",
    "\n",
    "history = model.fit(\n",
    "      train_generator,\n",
    "      steps_per_epoch=10,\n",
    "      epochs=num_epochs,\n",
    "      verbose=1,\n",
    "      validation_data = validation_generator,\n",
    "      validation_steps=8,\n",
    "      callbacks=[callbacks])"
   ]
  },
  {
   "cell_type": "markdown",
   "metadata": {},
   "source": [
    "Sample training epoch ! ↓\n",
    "-------------------------\n",
    "\n"
   ]
  },
  {
   "cell_type": "markdown",
   "metadata": {},
   "source": [
    "Found 600 images belonging to 2 classes.<br>\n",
    "Found 100 images belonging to 2 classes.\n",
    "\n",
    "\n",
    "Epoch 1/500\n",
    "10/10 [==============================] - 37s 408ms/step - loss: 1.0091 - accuracy: 0.5263 - val_loss: 0.6603 - val_accuracy: 0.6250<br>\n",
    "\n",
    "Epoch 2/500\n",
    "10/10 [==============================] - 4s 379ms/step - loss: 0.6865 - accuracy: 0.5630 - val_loss: 0.5828 - val_accuracy: 0.6000<br>\n",
    "\n",
    "Epoch 3/500\n",
    "10/10 [==============================] - 3s 352ms/step - loss: 0.6025 - accuracy: 0.6670 - val_loss: 0.6544 - val_accuracy: 0.6000<br>\n",
    "\n",
    "Epoch 4/500\n",
    "10/10 [==============================] - 4s 377ms/step - loss: 0.5346 - accuracy: 0.7509 - val_loss: 0.2553 - val_accuracy: 0.9000<br>\n",
    "\n",
    "Epoch 5/500\n",
    "10/10 [==============================] - 4s 381ms/step - loss: 0.4945 - accuracy: 0.7298 - val_loss: 0.2694 - val_accuracy: 0.9500<br>\n",
    "\n",
    "Epoch 6/500\n",
    "10/10 [==============================] - 4s 378ms/step - loss: 0.5239 - accuracy: 0.7339 - val_loss: 0.4927 - val_accuracy: 0.7250<br>\n",
    "\n",
    "Epoch 7/500\n",
    "10/10 [==============================] - 4s 375ms/step - loss: 0.6650 - accuracy: 0.5384 - val_loss: 0.5708 - val_accuracy: 0.7000<br>\n",
    "\n",
    "Epoch 8/500\n",
    "10/10 [==============================] - 4s 378ms/step - loss: 0.5643 - accuracy: 0.7200 - val_loss: 0.1930 - val_accuracy: 0.9500<br>\n",
    "\n",
    "Epoch 9/500\n",
    "10/10 [==============================] - 4s 401ms/step - loss: 0.5500 - accuracy: 0.7556 - val_loss: 0.3175 - val_accuracy: 0.9000<br>\n",
    "\n",
    "Epoch 10/500\n",
    "10/10 [==============================] - 4s 377ms/step - loss: 0.4382 - accuracy: 0.8020 - val_loss: 0.2113 - val_accuracy: 0.9750<br>\n",
    "\n",
    "Epoch 11/500\n",
    "10/10 [==============================] - 4s 383ms/step - loss: 0.4536 - accuracy: 0.7997 - val_loss: 0.2658 - val_accuracy: 0.9250<br>\n",
    "\n",
    "Epoch 12/500\n",
    "...\n",
    "10/10 [==============================] - 4s 362ms/step - loss: 0.1438 - accuracy: 0.9360 - val_loss: 0.0644 - val_accuracy: 0.9750<br>\n",
    "\n",
    "Epoch 115/500\n",
    "10/10 [==============================] - 4s 371ms/step - loss: 0.0402 - accuracy: 0.9914 - val_loss: 0.1281 - val_accuracy: 0.9500<br>\n",
    "\n",
    "Reached 98% accuracy so cancelling training!"
   ]
  }
 ],
 "metadata": {
  "language_info": {
   "name": "python"
  }
 },
 "nbformat": 4,
 "nbformat_minor": 2
}
